{
 "cells": [
  {
   "cell_type": "code",
   "execution_count": 39,
   "id": "25647db0",
   "metadata": {},
   "outputs": [],
   "source": [
    "import pandas as pd\n",
    "import sklearn\n",
    "from sklearn.preprocessing import OneHotEncoder, LabelBinarizer\n",
    "import numpy as np"
   ]
  },
  {
   "cell_type": "code",
   "execution_count": 40,
   "id": "b2a4de31",
   "metadata": {},
   "outputs": [],
   "source": [
    "# Load cleaned data into DataFrame\n",
    "stroke_df = pd.read_csv('stroke_data_cleaned.csv')"
   ]
  },
  {
   "cell_type": "markdown",
   "id": "7b7abcae",
   "metadata": {},
   "source": [
    "# Preprocessing\n",
    "Since the XGBoost classifier requires numerical inputs, I will first preprocess the data by seperating out and one-hot encoding the categorical features.  One-hot encoding is preferable over mapping to integer values since integer values have an inherent relationship due to their ordering."
   ]
  },
  {
   "cell_type": "code",
   "execution_count": 41,
   "id": "f0a00a99",
   "metadata": {},
   "outputs": [],
   "source": [
    "# Seperate into data frames for the label, categorical features, and continuous features\n",
    "label_df = stroke_df['stroke']\n",
    "cat_df = stroke_df[['gender', 'hypertension', 'heart_disease', 'ever_married', 'work_type', 'Residence_type', 'smoking_status']]\n",
    "non_cat_df = stroke_df[['age', 'avg_glucose_level', 'bmi']]"
   ]
  },
  {
   "cell_type": "code",
   "execution_count": 42,
   "id": "84f2c12f",
   "metadata": {},
   "outputs": [],
   "source": [
    "# Encode the categorical features\n",
    "encoder = OneHotEncoder(sparse='false', drop='if_binary')\n",
    "encoded_data = encoder.fit_transform(cat_df).toarray()"
   ]
  },
  {
   "cell_type": "code",
   "execution_count": 43,
   "id": "18321b48",
   "metadata": {},
   "outputs": [
    {
     "data": {
      "text/plain": [
       "(4909, 19)"
      ]
     },
     "execution_count": 43,
     "metadata": {},
     "output_type": "execute_result"
    }
   ],
   "source": [
    "# Combine Categorical and continuous features\n",
    "features = np.hstack((encoded_data, non_cat_df.to_numpy()))\n",
    "features.shape"
   ]
  },
  {
   "cell_type": "code",
   "execution_count": 44,
   "id": "5eeaf4b4",
   "metadata": {},
   "outputs": [
    {
     "data": {
      "text/plain": [
       "(4909, 1)"
      ]
     },
     "execution_count": 44,
     "metadata": {},
     "output_type": "execute_result"
    }
   ],
   "source": [
    "# Convert label dataframe to numpy column\n",
    "labels = label_df.to_numpy().reshape(-1, 1)\n",
    "labels.shape"
   ]
  }
 ],
 "metadata": {
  "kernelspec": {
   "display_name": "Python (xgboost)",
   "language": "python",
   "name": "xgboost"
  },
  "language_info": {
   "codemirror_mode": {
    "name": "ipython",
    "version": 3
   },
   "file_extension": ".py",
   "mimetype": "text/x-python",
   "name": "python",
   "nbconvert_exporter": "python",
   "pygments_lexer": "ipython3",
   "version": "3.9.7"
  }
 },
 "nbformat": 4,
 "nbformat_minor": 5
}
