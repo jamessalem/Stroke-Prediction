{
 "cells": [
  {
   "cell_type": "code",
   "execution_count": 77,
   "id": "25647db0",
   "metadata": {},
   "outputs": [],
   "source": [
    "import pandas as pd\n",
    "import sklearn\n",
    "from sklearn.preprocessing import OneHotEncoder, LabelBinarizer\n",
    "from sklearn.model_selection import train_test_split\n",
    "from sklearn.metrics import accuracy_score, precision_score, recall_score, confusion_matrix, ConfusionMatrixDisplay\n",
    "import matplotlib.pyplot as plt\n",
    "import numpy as np\n",
    "from xgboost import XGBClassifier"
   ]
  },
  {
   "cell_type": "code",
   "execution_count": 40,
   "id": "b2a4de31",
   "metadata": {},
   "outputs": [],
   "source": [
    "# Load cleaned data into DataFrame\n",
    "stroke_df = pd.read_csv('stroke_data_cleaned.csv')"
   ]
  },
  {
   "cell_type": "markdown",
   "id": "7b7abcae",
   "metadata": {},
   "source": [
    "# Preprocessing\n",
    "Since the XGBoost classifier requires numerical inputs, I will first preprocess the data by seperating out and one-hot encoding the categorical features.  One-hot encoding is preferable over mapping to integer values since integer values have an inherent relationship due to their ordering."
   ]
  },
  {
   "cell_type": "code",
   "execution_count": 41,
   "id": "f0a00a99",
   "metadata": {},
   "outputs": [],
   "source": [
    "# Seperate into data frames for the label, categorical features, and continuous features\n",
    "label_df = stroke_df['stroke']\n",
    "cat_df = stroke_df[['gender', 'hypertension', 'heart_disease', 'ever_married', 'work_type', 'Residence_type', 'smoking_status']]\n",
    "non_cat_df = stroke_df[['age', 'avg_glucose_level', 'bmi']]"
   ]
  },
  {
   "cell_type": "code",
   "execution_count": 42,
   "id": "84f2c12f",
   "metadata": {},
   "outputs": [],
   "source": [
    "# Encode the categorical features\n",
    "encoder = OneHotEncoder(sparse='false', drop='if_binary')\n",
    "encoded_data = encoder.fit_transform(cat_df).toarray()"
   ]
  },
  {
   "cell_type": "code",
   "execution_count": 43,
   "id": "18321b48",
   "metadata": {},
   "outputs": [
    {
     "data": {
      "text/plain": [
       "(4909, 19)"
      ]
     },
     "execution_count": 43,
     "metadata": {},
     "output_type": "execute_result"
    }
   ],
   "source": [
    "# Combine Categorical and continuous features\n",
    "features = np.hstack((encoded_data, non_cat_df.to_numpy()))\n",
    "features.shape"
   ]
  },
  {
   "cell_type": "code",
   "execution_count": 44,
   "id": "5eeaf4b4",
   "metadata": {},
   "outputs": [
    {
     "data": {
      "text/plain": [
       "(4909, 1)"
      ]
     },
     "execution_count": 44,
     "metadata": {},
     "output_type": "execute_result"
    }
   ],
   "source": [
    "# Convert label dataframe to numpy column\n",
    "labels = label_df.to_numpy().reshape(-1, 1)\n",
    "labels.shape"
   ]
  },
  {
   "cell_type": "markdown",
   "id": "4282abe9",
   "metadata": {},
   "source": [
    "# Split data into Train/Val/Test sets"
   ]
  },
  {
   "cell_type": "code",
   "execution_count": 49,
   "id": "891cadd8",
   "metadata": {},
   "outputs": [],
   "source": [
    "seed = 42\n",
    "val_size = 0.2\n",
    "test_size = 0.2"
   ]
  },
  {
   "cell_type": "code",
   "execution_count": 52,
   "id": "620ff3b6",
   "metadata": {},
   "outputs": [],
   "source": [
    "train_data, test_data, train_labels, test_labels = train_test_split(features, labels, \\\n",
    "                                                                    test_size=test_size, random_state=seed, shuffle=True)\n",
    "train_data, val_data, train_labels, val_labels = train_test_split(train_data, train_labels, \\\n",
    "                                                                  test_size=val_size, random_state=seed, shuffle=True)"
   ]
  },
  {
   "cell_type": "code",
   "execution_count": 53,
   "id": "02ebd5a7",
   "metadata": {},
   "outputs": [
    {
     "data": {
      "text/plain": [
       "(3141, 19)"
      ]
     },
     "execution_count": 53,
     "metadata": {},
     "output_type": "execute_result"
    }
   ],
   "source": [
    "train_data.shape"
   ]
  },
  {
   "cell_type": "markdown",
   "id": "987a224a",
   "metadata": {},
   "source": [
    "# XGBoost Model Training"
   ]
  },
  {
   "cell_type": "code",
   "execution_count": 54,
   "id": "47c74de9",
   "metadata": {},
   "outputs": [
    {
     "name": "stderr",
     "output_type": "stream",
     "text": [
      "/Users/jamessalem/opt/anaconda3/envs/xgboost/lib/python3.9/site-packages/xgboost/sklearn.py:1224: UserWarning: The use of label encoder in XGBClassifier is deprecated and will be removed in a future release. To remove this warning, do the following: 1) Pass option use_label_encoder=False when constructing XGBClassifier object; and 2) Encode your labels (y) as integers starting with 0, i.e. 0, 1, 2, ..., [num_class - 1].\n",
      "  warnings.warn(label_encoder_deprecation_msg, UserWarning)\n",
      "/Users/jamessalem/opt/anaconda3/envs/xgboost/lib/python3.9/site-packages/sklearn/preprocessing/_label.py:98: DataConversionWarning: A column-vector y was passed when a 1d array was expected. Please change the shape of y to (n_samples, ), for example using ravel().\n",
      "  y = column_or_1d(y, warn=True)\n",
      "/Users/jamessalem/opt/anaconda3/envs/xgboost/lib/python3.9/site-packages/sklearn/preprocessing/_label.py:133: DataConversionWarning: A column-vector y was passed when a 1d array was expected. Please change the shape of y to (n_samples, ), for example using ravel().\n",
      "  y = column_or_1d(y, warn=True)\n"
     ]
    },
    {
     "name": "stdout",
     "output_type": "stream",
     "text": [
      "[15:16:23] WARNING: ../src/learner.cc:1115: Starting in XGBoost 1.3.0, the default evaluation metric used with the objective 'binary:logistic' was changed from 'error' to 'logloss'. Explicitly set eval_metric if you'd like to restore the old behavior.\n"
     ]
    },
    {
     "data": {
      "text/plain": [
       "XGBClassifier(base_score=0.5, booster='gbtree', colsample_bylevel=1,\n",
       "              colsample_bynode=1, colsample_bytree=1, enable_categorical=False,\n",
       "              gamma=0, gpu_id=-1, importance_type=None,\n",
       "              interaction_constraints='', learning_rate=0.300000012,\n",
       "              max_delta_step=0, max_depth=6, min_child_weight=1, missing=nan,\n",
       "              monotone_constraints='()', n_estimators=100, n_jobs=4,\n",
       "              num_parallel_tree=1, predictor='auto', random_state=0,\n",
       "              reg_alpha=0, reg_lambda=1, scale_pos_weight=1, subsample=1,\n",
       "              tree_method='exact', validate_parameters=1, verbosity=None)"
      ]
     },
     "execution_count": 54,
     "metadata": {},
     "output_type": "execute_result"
    }
   ],
   "source": [
    "classifier_model = XGBClassifier()\n",
    "classifier_model.fit(train_data, train_labels)"
   ]
  },
  {
   "cell_type": "markdown",
   "id": "f7907a98",
   "metadata": {},
   "source": [
    "# Evaluation\n",
    "Because there are far fewer positive examples in the dataset, accuracy is not sufficient to tell us how well the model is performing.  For example, the model only successfully predicted 3 out of 29 strokes despite getting an accuracy of 95%."
   ]
  },
  {
   "cell_type": "code",
   "execution_count": 56,
   "id": "06ff1288",
   "metadata": {},
   "outputs": [],
   "source": [
    "val_predictions = classifier_model.predict(val_data)"
   ]
  },
  {
   "cell_type": "code",
   "execution_count": 81,
   "id": "1dfef391",
   "metadata": {},
   "outputs": [
    {
     "name": "stdout",
     "output_type": "stream",
     "text": [
      "Accuracy: 95.55%\n",
      "Precision: 0.25\n",
      "Recall: 0.10\n"
     ]
    }
   ],
   "source": [
    "# Compute Accuracy, Precision and Recall\n",
    "accuracy = accuracy_score(val_labels, val_predictions)\n",
    "print(\"Accuracy: %.2f%%\" % (accuracy * 100.0))\n",
    "precision = precision_score(val_labels, val_predictions)\n",
    "print(\"Precision: %.2f\" % (precision))\n",
    "recall = recall_score(val_labels, val_predictions)\n",
    "print(\"Recall: %.2f\" % (recall))"
   ]
  },
  {
   "cell_type": "code",
   "execution_count": 82,
   "id": "beb9a1eb",
   "metadata": {
    "scrolled": true
   },
   "outputs": [
    {
     "data": {
      "text/plain": [
       "<sklearn.metrics._plot.confusion_matrix.ConfusionMatrixDisplay at 0x7f93f47b6cd0>"
      ]
     },
     "execution_count": 82,
     "metadata": {},
     "output_type": "execute_result"
    },
    {
     "data": {
      "image/png": "[encoded data removed]",
      "text/plain": [
       "<Figure size 432x288 with 2 Axes>"
      ]
     },
     "metadata": {
      "needs_background": "light"
     },
     "output_type": "display_data"
    }
   ],
   "source": [
    "# Compute and Display the confusion matrix\n",
    "conf_mat = confusion_matrix(val_labels, val_predictions)\n",
    "disp = ConfusionMatrixDisplay(confusion_matrix=conf_mat)\n",
    "disp.plot()"
   ]
  },
  {
   "cell_type": "markdown",
   "id": "7077fedc",
   "metadata": {},
   "source": [
    "# Hyperparameter Tuning with Grid Search"
   ]
  }
 ],
 "metadata": {
  "kernelspec": {
   "display_name": "Python (xgboost)",
   "language": "python",
   "name": "xgboost"
  },
  "language_info": {
   "codemirror_mode": {
    "name": "ipython",
    "version": 3
   },
   "file_extension": ".py",
   "mimetype": "text/x-python",
   "name": "python",
   "nbconvert_exporter": "python",
   "pygments_lexer": "ipython3",
   "version": "3.9.7"
  }
 },
 "nbformat": 4,
 "nbformat_minor": 5
}
